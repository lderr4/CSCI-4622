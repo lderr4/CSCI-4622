{
 "cells": [
  {
   "cell_type": "code",
   "execution_count": 53,
   "id": "8e7976e0",
   "metadata": {},
   "outputs": [],
   "source": [
    "import pandas as pd\n",
    "import matplotlib.pyplot as plt\n",
    "import seaborn as sns\n",
    "import numpy as np\n",
    "from sklearn.model_selection import train_test_split\n",
    "from sklearn.linear_model import LinearRegression"
   ]
  },
  {
   "cell_type": "code",
   "execution_count": 54,
   "id": "723776aa",
   "metadata": {},
   "outputs": [
    {
     "name": "stderr",
     "output_type": "stream",
     "text": [
      "/var/folders/sd/473_3sg11rg8_wwwvbxhyddm0000gn/T/ipykernel_62232/1126885292.py:1: DtypeWarning: Columns (179,180,182,183,189,190,193,194,197,198,203,204,205,206,218,219,220,233,234,235,236,237,238,248,249,253,254,255,260,262,263,283,284,301) have mixed types. Specify dtype option on import or set low_memory=False.\n",
      "  dataset = pd.read_csv('play_by_play_2021.csv')\n"
     ]
    },
    {
     "data": {
      "text/plain": [
       "0.8907884249564235"
      ]
     },
     "execution_count": 54,
     "metadata": {},
     "output_type": "execute_result"
    }
   ],
   "source": [
    "dataset = pd.read_csv('play_by_play_2021.csv')\n",
    "dataset = dataset[dataset['down']==4]\n",
    "dataset = dataset[['yardline_100','game_seconds_remaining','ydstogo','yards_gained','field_goal_result','kick_distance','posteam_timeouts_remaining','defteam_timeouts_remaining','score_differential','no_score_prob','opp_fg_prob','epa','fg_prob','wp','punt_blocked','fourth_down_converted','weather','play_type_nfl']]\n",
    "kicks = dataset[dataset['play_type_nfl'] == 'FIELD_GOAL']\n",
    "passes = dataset[dataset['play_type_nfl'] == 'PASS']\n",
    "rushes = dataset[dataset['play_type_nfl'] == 'RUSH']\n",
    "go_for_it = pd.concat([passes, rushes])\n",
    "go_for_it1 = go_for_it.drop(go_for_it.columns[[3, 4, 5, 14, 15, 16, 17]], axis=1)\n",
    "go_for_it2 = go_for_it[['fourth_down_converted']]\n",
    "punts = dataset[dataset['play_type_nfl'] == 'PUNT']\n",
    "gfix = go_for_it1.to_numpy()\n",
    "gfiy = go_for_it2.to_numpy()\n",
    "X_train, X_test, y_train, y_test = train_test_split(gfix, gfiy, test_size=0.1, random_state=42)\n",
    "reg = LinearRegression().fit(X_train, y_train)\n",
    "reg.score(X_test, y_test)"
   ]
  },
  {
   "cell_type": "code",
   "execution_count": null,
   "id": "17035062",
   "metadata": {},
   "outputs": [],
   "source": []
  }
 ],
 "metadata": {
  "kernelspec": {
   "display_name": "Python 3 (ipykernel)",
   "language": "python",
   "name": "python3"
  },
  "language_info": {
   "codemirror_mode": {
    "name": "ipython",
    "version": 3
   },
   "file_extension": ".py",
   "mimetype": "text/x-python",
   "name": "python",
   "nbconvert_exporter": "python",
   "pygments_lexer": "ipython3",
   "version": "3.9.7"
  }
 },
 "nbformat": 4,
 "nbformat_minor": 5
}
