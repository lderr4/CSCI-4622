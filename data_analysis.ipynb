{
 "cells": [
  {
   "cell_type": "code",
   "execution_count": 1,
   "id": "f929ad47",
   "metadata": {},
   "outputs": [
    {
     "name": "stderr",
     "output_type": "stream",
     "text": [
      "[nltk_data] Downloading package punkt to /Users/lucasderr/nltk_data...\n",
      "[nltk_data]   Package punkt is already up-to-date!\n",
      "[nltk_data] Downloading package stopwords to\n",
      "[nltk_data]     /Users/lucasderr/nltk_data...\n",
      "[nltk_data]   Package stopwords is already up-to-date!\n"
     ]
    },
    {
     "name": "stdout",
     "output_type": "stream",
     "text": [
      "Imports complete!!!\n"
     ]
    }
   ],
   "source": [
    "import pandas as pd\n",
    "import matplotlib.pyplot as plt\n",
    "import seaborn as sns\n",
    "import numpy as np\n",
    "\n",
    "import nltk\n",
    "from nltk.tokenize import word_tokenize\n",
    "from nltk.corpus import stopwords\n",
    "from nltk.util import ngrams\n",
    "\n",
    "from sklearn.feature_extraction.text import CountVectorizer\n",
    "from collections import defaultdict\n",
    "from collections import  Counter\n",
    "\n",
    "nltk.download('punkt')\n",
    "nltk.download('stopwords')\n",
    "stop=set(stopwords.words('english'))\n",
    "\n",
    "import re\n",
    "import gensim\n",
    "import string\n",
    "from keras.preprocessing.text import Tokenizer\n",
    "from keras.preprocessing.sequence import pad_sequences\n",
    "from tqdm import tqdm\n",
    "from keras.models import Sequential\n",
    "from keras.layers import Embedding,LSTM,Dense,SpatialDropout1D\n",
    "from keras.initializers import Constant\n",
    "from sklearn.model_selection import train_test_split\n",
    "from keras.optimizers import adam_v2\n",
    "\n",
    "import os\n",
    "\n",
    "print(\"Imports complete!!!\")"
   ]
  },
  {
   "cell_type": "code",
   "execution_count": 8,
   "id": "8ea1dd86",
   "metadata": {},
   "outputs": [
    {
     "name": "stderr",
     "output_type": "stream",
     "text": [
      "/Users/lucasderr/opt/anaconda3/lib/python3.9/site-packages/IPython/core/interactiveshell.py:3444: DtypeWarning: Columns (179,180,182,183,189,190,193,194,197,198,203,204,205,206,218,219,220,233,234,235,236,237,238,248,249,253,254,255,260,262,263,283,284,301) have mixed types.Specify dtype option on import or set low_memory=False.\n",
      "  exec(code_obj, self.user_global_ns, self.user_ns)\n"
     ]
    },
    {
     "name": "stdout",
     "output_type": "stream",
     "text": [
      "(50536, 372)\n",
      "   play_id          game_id  old_game_id home_team away_team season_type  \\\n",
      "0        1  2021_01_ARI_TEN   2021091207       TEN       ARI         REG   \n",
      "1       40  2021_01_ARI_TEN   2021091207       TEN       ARI         REG   \n",
      "2       55  2021_01_ARI_TEN   2021091207       TEN       ARI         REG   \n",
      "\n",
      "   week posteam posteam_type defteam  ... out_of_bounds  home_opening_kickoff  \\\n",
      "0     1     NaN          NaN     NaN  ...             0                     1   \n",
      "1     1     TEN         home     ARI  ...             0                     1   \n",
      "2     1     TEN         home     ARI  ...             0                     1   \n",
      "\n",
      "     qb_epa  xyac_epa  xyac_mean_yardage  xyac_median_yardage xyac_success  \\\n",
      "0       NaN       NaN                NaN                  NaN          NaN   \n",
      "1  0.000000       NaN                NaN                  NaN          NaN   \n",
      "2 -1.399805       NaN                NaN                  NaN          NaN   \n",
      "\n",
      "   xyac_fd     xpass    pass_oe  \n",
      "0      NaN       NaN        NaN  \n",
      "1      NaN       NaN        NaN  \n",
      "2      NaN  0.491433 -49.143299  \n",
      "\n",
      "[3 rows x 372 columns]\n"
     ]
    }
   ],
   "source": [
    "dataset = pd.read_csv('play_by_play_2021.csv')\n",
    "print(dataset.shape)\n",
    "print(dataset.head(3))"
   ]
  },
  {
   "cell_type": "code",
   "execution_count": 10,
   "id": "63b1fd5a",
   "metadata": {},
   "outputs": [
    {
     "name": "stdout",
     "output_type": "stream",
     "text": [
      "(4235, 372)\n"
     ]
    }
   ],
   "source": [
    "fourthdown = dataset[dataset['down']==4]\n",
    "print(fourthdown.shape)"
   ]
  },
  {
   "cell_type": "code",
   "execution_count": 21,
   "id": "75959674",
   "metadata": {},
   "outputs": [
    {
     "name": "stdout",
     "output_type": "stream",
     "text": [
      "(4235,)\n"
     ]
    },
    {
     "data": {
      "image/png": "[encoded data removed]",
      "text/plain": [
       "<Figure size 432x288 with 1 Axes>"
      ]
     },
     "metadata": {
      "needs_background": "light"
     },
     "output_type": "display_data"
    }
   ],
   "source": [
    "yardline = fourthdown['yardline_100']\n",
    "print(yardline.shape)\n",
    "\n",
    "plt.hist(yardline,color='blue', bins = 100)\n",
    "plt.title('Yardline Distribution')\n",
    "plt.show()"
   ]
  },
  {
   "cell_type": "code",
   "execution_count": 20,
   "id": "51ee2ea2",
   "metadata": {},
   "outputs": [
    {
     "name": "stderr",
     "output_type": "stream",
     "text": [
      "/Users/lucasderr/opt/anaconda3/lib/python3.9/site-packages/seaborn/_decorators.py:36: FutureWarning: Pass the following variables as keyword args: x, y. From version 0.12, the only valid positional argument will be `data`, and passing other arguments without an explicit keyword will result in an error or misinterpretation.\n",
      "  warnings.warn(\n"
     ]
    },
    {
     "data": {
      "text/plain": [
       "[Text(0.5, 1.0, 'Play Types')]"
      ]
     },
     "execution_count": 20,
     "metadata": {},
     "output_type": "execute_result"
    },
    {
     "data": {
      "image/png": "[encoded data removed]",
      "text/plain": [
       "<Figure size 432x288 with 1 Axes>"
      ]
     },
     "metadata": {
      "needs_background": "light"
     },
     "output_type": "display_data"
    }
   ],
   "source": [
    "x = fourthdown.play_type.value_counts()\n",
    "sns.barplot(x.index, x,).set(title=\"Play Types\")\n",
    "\n"
   ]
  },
  {
   "cell_type": "code",
   "execution_count": 43,
   "id": "a470d12e",
   "metadata": {},
   "outputs": [
    {
     "name": "stdout",
     "output_type": "stream",
     "text": [
      "5        0\n",
      "16       1\n",
      "31       0\n",
      "35       1\n",
      "39       0\n",
      "        ..\n",
      "50497    0\n",
      "50498    0\n",
      "50507    1\n",
      "50513    0\n",
      "50526    1\n",
      "Name: labels, Length: 4235, dtype: int64\n"
     ]
    },
    {
     "name": "stderr",
     "output_type": "stream",
     "text": [
      "/var/folders/bh/bkzmld751m5fdgn8m3_kzfmc0000gn/T/ipykernel_72240/559978046.py:13: SettingWithCopyWarning: \n",
      "A value is trying to be set on a copy of a slice from a DataFrame.\n",
      "Try using .loc[row_indexer,col_indexer] = value instead\n",
      "\n",
      "See the caveats in the documentation: https://pandas.pydata.org/pandas-docs/stable/user_guide/indexing.html#returning-a-view-versus-a-copy\n",
      "  fourthdown['labels'] = labels\n"
     ]
    }
   ],
   "source": [
    "# result feature gives final score \n",
    "# negative score in favor of away team, positive score in favor of home team\n",
    "# how do we classify a tie?\n",
    "\n",
    "# won = fourthdown[(fourthdown['posteam_type'] == 'home' & fourthdown['result'] > 0) | (fourthdown['posteam_type'] == 'away' & fourthdown['result'] < 0)]\n",
    "def who_won(row):\n",
    "    row = row.to_numpy()\n",
    "    if((row[0] == 'home' and row[1] > 0) or (row[0] == 'away' and row[1] < 0)):\n",
    "        return 1\n",
    "    return 0\n",
    "\n",
    "labels = fourthdown[['posteam_type', 'result']].apply(who_won, axis=1)\n",
    "fourthdown['labels'] = labels\n",
    "print(fourthdown['labels'])"
   ]
  },
  {
   "cell_type": "code",
   "execution_count": 44,
   "id": "10806716",
   "metadata": {},
   "outputs": [],
   "source": [
    "won = fourthdown[fourthdown['labels'] == 1]\n",
    "lost = fourthdown[fourthdown['labels'] == 0]"
   ]
  },
  {
   "cell_type": "code",
   "execution_count": 45,
   "id": "791f73a1",
   "metadata": {},
   "outputs": [
    {
     "name": "stderr",
     "output_type": "stream",
     "text": [
      "/Users/lucasderr/opt/anaconda3/lib/python3.9/site-packages/seaborn/_decorators.py:36: FutureWarning: Pass the following variables as keyword args: x, y. From version 0.12, the only valid positional argument will be `data`, and passing other arguments without an explicit keyword will result in an error or misinterpretation.\n",
      "  warnings.warn(\n"
     ]
    },
    {
     "data": {
      "text/plain": [
       "[Text(0.5, 1.0, 'Label Counts')]"
      ]
     },
     "execution_count": 45,
     "metadata": {},
     "output_type": "execute_result"
    },
    {
     "data": {
      "image/png": "[encoded data removed]",
      "text/plain": [
       "<Figure size 432x288 with 1 Axes>"
      ]
     },
     "metadata": {
      "needs_background": "light"
     },
     "output_type": "display_data"
    }
   ],
   "source": [
    "x = fourthdown.labels.value_counts()\n",
    "sns.barplot(x.index, x,).set(title=\"Label Counts\")"
   ]
  },
  {
   "cell_type": "code",
   "execution_count": 50,
   "id": "59202408",
   "metadata": {},
   "outputs": [
    {
     "data": {
      "text/plain": [
       "(-1.10976323089917,\n",
       " 1.1004649199936059,\n",
       " -1.1141850335783672,\n",
       " 1.1086906809927233)"
      ]
     },
     "execution_count": 50,
     "metadata": {},
     "output_type": "execute_result"
    },
    {
     "data": {
      "image/png": "[encoded data removed]",
      "text/plain": [
       "<Figure size 720x360 with 2 Axes>"
      ]
     },
     "metadata": {},
     "output_type": "display_data"
    }
   ],
   "source": [
    "fig, (ax1, ax2) = plt.subplots(1,2, figsize=(10,5))\n",
    "\n",
    "a = won.play_type.value_counts()\n",
    "b = lost.play_type.value_counts()\n",
    "\n",
    "\n",
    "ax1.pie(a,  labels=a.index,autopct='%1.1f%%')\n",
    "ax1.axis('equal')\n",
    "\n",
    "ax2.pie(b,  labels=b.index,autopct='%1.1f%%')\n",
    "ax2.axis('equal')\n",
    "\n"
   ]
  },
  {
   "cell_type": "markdown",
   "id": "9238c280",
   "metadata": {},
   "source": [
    "This is the spread of plays that will be classified as successful or not successful in our dataset. This is interesting (notably difference in field goal and pass), but needs more context. "
   ]
  },
  {
   "cell_type": "markdown",
   "id": "c81db3ce",
   "metadata": {},
   "source": [
    "# Problem Space 1 - Weighing Samples' relevance to the final outcome of the game (Lucas)"
   ]
  },
  {
   "cell_type": "markdown",
   "id": "3cd3d371",
   "metadata": {},
   "source": [
    "Idea: Samples that are most relevant are ones where the outcome of the game is not yet determined - 50/50 probability of winning"
   ]
  },
  {
   "cell_type": "markdown",
   "id": "950903c1",
   "metadata": {},
   "source": [
    "Idea: Samples that are most relevant are ones which create the biggest swing in win probability"
   ]
  },
  {
   "cell_type": "markdown",
   "id": "9a8cfa48",
   "metadata": {},
   "source": [
    "# Problem Space 2 - Feature Engineering: Go through dataset and get keep all features which could potentially be useful. Also do some analysis on the features."
   ]
  },
  {
   "cell_type": "markdown",
   "id": "44ea5dc5",
   "metadata": {},
   "source": [
    "# Problem Space 3 - Train a Baseline Model and try to find ways to improve it"
   ]
  },
  {
   "cell_type": "code",
   "execution_count": null,
   "id": "d9edc926",
   "metadata": {},
   "outputs": [],
   "source": []
  }
 ],
 "metadata": {
  "kernelspec": {
   "display_name": "Python 3 (ipykernel)",
   "language": "python",
   "name": "python3"
  },
  "language_info": {
   "codemirror_mode": {
    "name": "ipython",
    "version": 3
   },
   "file_extension": ".py",
   "mimetype": "text/x-python",
   "name": "python",
   "nbconvert_exporter": "python",
   "pygments_lexer": "ipython3",
   "version": "3.9.7"
  }
 },
 "nbformat": 4,
 "nbformat_minor": 5
}
